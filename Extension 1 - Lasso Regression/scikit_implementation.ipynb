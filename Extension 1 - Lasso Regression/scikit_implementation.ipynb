{
 "cells": [
  {
   "cell_type": "markdown",
   "metadata": {},
   "source": [
    "# Processing Boston Dataset"
   ]
  },
  {
   "cell_type": "code",
   "execution_count": 1,
   "metadata": {},
   "outputs": [],
   "source": [
    "import numpy as np\n",
    "import sklearn\n",
    "from sklearn.datasets import load_boston\n",
    "from sklearn.preprocessing import PolynomialFeatures\n",
    "from sklearn.model_selection import train_test_split\n",
    "\n",
    "# Import the boston dataset from sklearn\n",
    "boston_data = load_boston()\n",
    "\n",
    "#  Create X and Y variables - X holding the .data and Y holding .target \n",
    "X = boston_data.data\n",
    "y = boston_data.target\n",
    "\n",
    "#  Reshape Y to be a rank 2 matrix \n",
    "y = y.reshape(X.shape[0], 1)\n",
    "\n",
    "# Proprocesing by adding a column of 1's to the front of X\n",
    "one_col = np.ones((X.shape[0],1))\n",
    "X = np.hstack((one_col, X))\n",
    "\n",
    "# Create a PolynomialFeatures object with degree = 2. \n",
    "# Transform X and save it into X_2. Simply copy Y into Y_2 \n",
    "# Note: PolynomialFeatures creates a column of ones as the first feature\n",
    "poly = PolynomialFeatures(degree=2)\n",
    "X_2 = poly.fit_transform(X)\n",
    "y_2 = y\n",
    "\n",
    "X_train,X_test,y_train,y_test=train_test_split(X_2, y_2, test_size=0.3,random_state=0)"
   ]
  },
  {
   "cell_type": "markdown",
   "metadata": {},
   "source": [
    "# Linear Regression (Boston)"
   ]
  },
  {
   "cell_type": "code",
   "execution_count": 2,
   "metadata": {},
   "outputs": [
    {
     "name": "stdout",
     "output_type": "stream",
     "text": [
      "linear regression train score:\t 0.9512182010883049\n",
      "linear regression test score:\t 0.65203541351031\n",
      "linear MSE test: 28.973445848667456\n"
     ]
    }
   ],
   "source": [
    "from sklearn.linear_model import LinearRegression\n",
    "from sklearn.metrics import mean_squared_error\n",
    "\n",
    "lr = LinearRegression().fit(X_train, y_train)\n",
    "\n",
    "Linear_predict = lr.predict(X_test)\n",
    "\n",
    "Linear_train_score = lr.score(X_train,y_train)\n",
    "Linear_test_score = lr.score(X_test, y_test)\n",
    "\n",
    "print(\"linear regression train score:\\t\", Linear_train_score)\n",
    "print(\"linear regression test score:\\t\", Linear_test_score)\n",
    "print(\"linear MSE test:\", mean_squared_error(Linear_predict, y_test))"
   ]
  },
  {
   "cell_type": "markdown",
   "metadata": {},
   "source": [
    "# Lasso Regression (Boston)"
   ]
  },
  {
   "cell_type": "code",
   "execution_count": 3,
   "metadata": {},
   "outputs": [
    {
     "name": "stdout",
     "output_type": "stream",
     "text": [
      "λ = 100\n",
      "lasso regression train score:\t 0.8103743709618847\n",
      "lasso regression test score:\t 0.695779447011784\n",
      "lasso MSE test: 25.33107695520305\n"
     ]
    }
   ],
   "source": [
    "from sklearn.linear_model import Lasso\n",
    "from sklearn.metrics import mean_squared_error\n",
    "\n",
    "lasso = Lasso(alpha=100, max_iter=10e5)\n",
    "lasso.fit(X_train,y_train)\n",
    "\n",
    "Lasso_predict = lasso.predict(X_test)\n",
    "\n",
    "Lasso_train_score=lasso.score(X_train,y_train)\n",
    "Lasso_test_score=lasso.score(X_test,y_test)\n",
    "\n",
    "print(\"\\u03BB = 100\")\n",
    "print(\"lasso regression train score:\\t\", Lasso_train_score)\n",
    "print(\"lasso regression test score:\\t\", Lasso_test_score)\n",
    "print(\"lasso MSE test:\", mean_squared_error(Lasso_predict, y_test))"
   ]
  },
  {
   "cell_type": "markdown",
   "metadata": {},
   "source": [
    "# Processing Digits Dataset"
   ]
  },
  {
   "cell_type": "code",
   "execution_count": 4,
   "metadata": {},
   "outputs": [],
   "source": [
    "import numpy as np\n",
    "import sklearn\n",
    "from sklearn.datasets import load_digits\n",
    "from sklearn.model_selection import train_test_split\n",
    "\n",
    "digits_data = load_digits()\n",
    "\n",
    "X = digits_data.data\n",
    "y = digits_data.target\n",
    "\n",
    "X_train,X_test,y_train,y_test=train_test_split(X, y, test_size=0.3,random_state=0)"
   ]
  },
  {
   "cell_type": "markdown",
   "metadata": {},
   "source": [
    "# Linear Regression (Digits)"
   ]
  },
  {
   "cell_type": "code",
   "execution_count": 5,
   "metadata": {},
   "outputs": [
    {
     "name": "stdout",
     "output_type": "stream",
     "text": [
      "linear regression train score:\t 0.5979800626243363\n",
      "linear regression test score:\t 0.5740460038277273\n",
      "linear MSE test: 3.452475459530763\n"
     ]
    }
   ],
   "source": [
    "from sklearn.linear_model import LinearRegression\n",
    "from sklearn.metrics import mean_squared_error\n",
    "\n",
    "lr = LinearRegression().fit(X_train, y_train)\n",
    "\n",
    "Linear_predict = lr.predict(X_test)\n",
    "\n",
    "Linear_train_score = lr.score(X_train,y_train)\n",
    "Linear_test_score = lr.score(X_test, y_test)\n",
    "\n",
    "print(\"linear regression train score:\\t\", Linear_train_score)\n",
    "print(\"linear regression test score:\\t\", Linear_test_score)\n",
    "print(\"linear MSE test:\", mean_squared_error(Linear_predict, y_test))"
   ]
  },
  {
   "cell_type": "markdown",
   "metadata": {},
   "source": [
    "# Lasso Regression (Digits)"
   ]
  },
  {
   "cell_type": "code",
   "execution_count": 6,
   "metadata": {},
   "outputs": [
    {
     "name": "stdout",
     "output_type": "stream",
     "text": [
      "λ = .01\n",
      "lasso regression train score:\t 0.595761068107747\n",
      "lasso regression test score:\t 0.5753167560957702\n",
      "lasso MSE test: 3.4421756594115345\n"
     ]
    }
   ],
   "source": [
    "from sklearn.linear_model import Lasso\n",
    "from sklearn.metrics import mean_squared_error\n",
    "\n",
    "lasso = Lasso(alpha=.01, max_iter=1000)\n",
    "lasso.fit(X_train,y_train)\n",
    "\n",
    "Lasso_predict = lasso.predict(X_test)\n",
    "\n",
    "Lasso_train_score=lasso.score(X_train,y_train)\n",
    "Lasso_test_score=lasso.score(X_test,y_test)\n",
    "\n",
    "print(\"\\u03BB = .01\")\n",
    "print(\"lasso regression train score:\\t\", Lasso_train_score)\n",
    "print(\"lasso regression test score:\\t\", Lasso_test_score)\n",
    "print(\"lasso MSE test:\", mean_squared_error(Lasso_predict, y_test))"
   ]
  },
  {
   "cell_type": "code",
   "execution_count": null,
   "metadata": {},
   "outputs": [],
   "source": []
  }
 ],
 "metadata": {
  "kernelspec": {
   "display_name": "Python 3",
   "language": "python",
   "name": "python3"
  },
  "language_info": {
   "codemirror_mode": {
    "name": "ipython",
    "version": 3
   },
   "file_extension": ".py",
   "mimetype": "text/x-python",
   "name": "python",
   "nbconvert_exporter": "python",
   "pygments_lexer": "ipython3",
   "version": "3.7.4"
  }
 },
 "nbformat": 4,
 "nbformat_minor": 2
}
